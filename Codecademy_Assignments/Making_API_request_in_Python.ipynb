{
 "cells": [
  {
   "cell_type": "markdown",
   "id": "4c28e07e",
   "metadata": {},
   "source": [
    "### Making API Request in Python"
   ]
  },
  {
   "cell_type": "markdown",
   "id": "722a2551",
   "metadata": {},
   "source": [
    "##### 1.  Begin by importing the requests library with this command"
   ]
  },
  {
   "cell_type": "code",
   "execution_count": 30,
   "id": "41f14d72",
   "metadata": {},
   "outputs": [],
   "source": [
    "import requests"
   ]
  },
  {
   "cell_type": "markdown",
   "id": "badd0004",
   "metadata": {},
   "source": [
    "##### 2. We can use the get() method to return the data from our desired URL"
   ]
  },
  {
   "cell_type": "code",
   "execution_count": 7,
   "id": "1673838d",
   "metadata": {},
   "outputs": [],
   "source": [
    "r = requests.get(\"https://api.census.gov/data/2020/acs/acs5?get=NAME,B08303_001E,B08303_013E&for=county:*&in=state:36\")"
   ]
  },
  {
   "cell_type": "code",
   "execution_count": 8,
   "id": "2f7aec55",
   "metadata": {},
   "outputs": [
    {
     "data": {
      "text/plain": [
       "<Response [200]>"
      ]
     },
     "execution_count": 8,
     "metadata": {},
     "output_type": "execute_result"
    }
   ],
   "source": [
    "# The result is a response object\n",
    "r"
   ]
  },
  {
   "cell_type": "markdown",
   "id": "78693cae",
   "metadata": {},
   "source": [
    "##### 3. We can use the .text attribute or .json() method for look at the response\n",
    "The text attribute turns the data into a string.<br>\n",
    "We can also use the .json() method that can automatically decode JSON data into the appropriate Python object.<br>\n",
    "This is useful when working with JSON data, as in the case of the Census API, to have the data in a more intuitive data structure."
   ]
  },
  {
   "cell_type": "code",
   "execution_count": 9,
   "id": "27bfaff0",
   "metadata": {},
   "outputs": [
    {
     "data": {
      "text/plain": [
       "'[[\"NAME\",\"B08303_001E\",\"B08303_013E\",\"state\",\"county\"],\\n[\"Allegany County, New York\",\"18308\",\"497\",\"36\",\"003\"],\\n[\"Cattaraugus County, New York\",\"31039\",\"629\",\"36\",\"009\"],\\n[\"Chemung County, New York\",\"35006\",\"736\",\"36\",\"015\"],\\n[\"Columbia County, New York\",\"25990\",\"813\",\"36\",\"021\"],\\n[\"Dutchess County, New York\",\"132346\",\"10044\",\"36\",\"027\"],\\n[\"Essex County, New York\",\"15218\",\"550\",\"36\",\"031\"],\\n[\"Genesee County, New York\",\"27695\",\"259\",\"36\",\"037\"],\\n[\"Herkimer County, New York\",\"26549\",\"705\",\"36\",\"043\"],\\n[\"Lewis County, New York\",\"11149\",\"417\",\"36\",\"049\"],\\n[\"Monroe County, New York\",\"332699\",\"3546\",\"36\",\"055\"],\\n[\"New York County, New York\",\"770396\",\"21735\",\"36\",\"061\"],\\n[\"Onondaga County, New York\",\"202751\",\"2726\",\"36\",\"067\"],\\n[\"Orleans County, New York\",\"16404\",\"287\",\"36\",\"073\"],\\n[\"Putnam County, New York\",\"45821\",\"4200\",\"36\",\"079\"],\\n[\"Richmond County, New York\",\"203754\",\"29348\",\"36\",\"085\"],\\n[\"Albany County, New York\",\"145874\",\"1549\",\"36\",\"001\"],\\n[\"Bronx County, New York\",\"546560\",\"54030\",\"36\",\"005\"],\\n[\"Broome County, New York\",\"77464\",\"1352\",\"36\",\"007\"],\\n[\"Cayuga County, New York\",\"33412\",\"604\",\"36\",\"011\"],\\n[\"Chautauqua County, New York\",\"52147\",\"647\",\"36\",\"013\"],\\n[\"Chenango County, New York\",\"20209\",\"535\",\"36\",\"017\"],\\n[\"Clinton County, New York\",\"34016\",\"365\",\"36\",\"019\"],\\n[\"Cortland County, New York\",\"21791\",\"296\",\"36\",\"023\"],\\n[\"Delaware County, New York\",\"17946\",\"861\",\"36\",\"025\"],\\n[\"Erie County, New York\",\"414400\",\"5160\",\"36\",\"029\"],\\n[\"Franklin County, New York\",\"17841\",\"256\",\"36\",\"033\"],\\n[\"Fulton County, New York\",\"23456\",\"400\",\"36\",\"035\"],\\n[\"Greene County, New York\",\"18928\",\"648\",\"36\",\"039\"],\\n[\"Hamilton County, New York\",\"1841\",\"50\",\"36\",\"041\"],\\n[\"Jefferson County, New York\",\"48260\",\"688\",\"36\",\"045\"],\\n[\"Kings County, New York\",\"1087920\",\"76680\",\"36\",\"047\"],\\n[\"Livingston County, New York\",\"27374\",\"395\",\"36\",\"051\"],\\n[\"Madison County, New York\",\"30900\",\"451\",\"36\",\"053\"],\\n[\"Montgomery County, New York\",\"20627\",\"278\",\"36\",\"057\"],\\n[\"Nassau County, New York\",\"622432\",\"49953\",\"36\",\"059\"],\\n[\"Niagara County, New York\",\"93331\",\"937\",\"36\",\"063\"],\\n[\"Oneida County, New York\",\"94801\",\"1326\",\"36\",\"065\"],\\n[\"Ontario County, New York\",\"50334\",\"611\",\"36\",\"069\"],\\n[\"Orange County, New York\",\"163955\",\"15513\",\"36\",\"071\"],\\n[\"Oswego County, New York\",\"51083\",\"1095\",\"36\",\"075\"],\\n[\"Otsego County, New York\",\"25745\",\"692\",\"36\",\"077\"],\\n[\"Queens County, New York\",\"1025165\",\"95163\",\"36\",\"081\"],\\n[\"Rensselaer County, New York\",\"74181\",\"1545\",\"36\",\"083\"],\\n[\"Rockland County, New York\",\"132952\",\"9017\",\"36\",\"087\"],\\n[\"St. Lawrence County, New York\",\"40971\",\"787\",\"36\",\"089\"],\\n[\"Saratoga County, New York\",\"109798\",\"1707\",\"36\",\"091\"],\\n[\"Schenectady County, New York\",\"67443\",\"843\",\"36\",\"093\"],\\n[\"Schoharie County, New York\",\"13218\",\"414\",\"36\",\"095\"],\\n[\"Schuyler County, New York\",\"7582\",\"206\",\"36\",\"097\"],\\n[\"Seneca County, New York\",\"14290\",\"193\",\"36\",\"099\"],\\n[\"Steuben County, New York\",\"40583\",\"713\",\"36\",\"101\"],\\n[\"Suffolk County, New York\",\"698146\",\"51611\",\"36\",\"103\"],\\n[\"Sullivan County, New York\",\"29960\",\"2181\",\"36\",\"105\"],\\n[\"Tioga County, New York\",\"21206\",\"347\",\"36\",\"107\"],\\n[\"Tompkins County, New York\",\"44051\",\"547\",\"36\",\"109\"],\\n[\"Ulster County, New York\",\"75520\",\"3761\",\"36\",\"111\"],\\n[\"Warren County, New York\",\"30092\",\"588\",\"36\",\"113\"],\\n[\"Washington County, New York\",\"25874\",\"551\",\"36\",\"115\"],\\n[\"Wayne County, New York\",\"41138\",\"449\",\"36\",\"117\"],\\n[\"Westchester County, New York\",\"427794\",\"29750\",\"36\",\"119\"],\\n[\"Wyoming County, New York\",\"17574\",\"273\",\"36\",\"121\"],\\n[\"Yates County, New York\",\"9518\",\"90\",\"36\",\"123\"]]'"
      ]
     },
     "execution_count": 9,
     "metadata": {},
     "output_type": "execute_result"
    }
   ],
   "source": [
    "r.text"
   ]
  },
  {
   "cell_type": "code",
   "execution_count": 10,
   "id": "63e54c4c",
   "metadata": {},
   "outputs": [
    {
     "data": {
      "text/plain": [
       "[['NAME', 'B08303_001E', 'B08303_013E', 'state', 'county'],\n",
       " ['Allegany County, New York', '18308', '497', '36', '003'],\n",
       " ['Cattaraugus County, New York', '31039', '629', '36', '009'],\n",
       " ['Chemung County, New York', '35006', '736', '36', '015'],\n",
       " ['Columbia County, New York', '25990', '813', '36', '021'],\n",
       " ['Dutchess County, New York', '132346', '10044', '36', '027'],\n",
       " ['Essex County, New York', '15218', '550', '36', '031'],\n",
       " ['Genesee County, New York', '27695', '259', '36', '037'],\n",
       " ['Herkimer County, New York', '26549', '705', '36', '043'],\n",
       " ['Lewis County, New York', '11149', '417', '36', '049'],\n",
       " ['Monroe County, New York', '332699', '3546', '36', '055'],\n",
       " ['New York County, New York', '770396', '21735', '36', '061'],\n",
       " ['Onondaga County, New York', '202751', '2726', '36', '067'],\n",
       " ['Orleans County, New York', '16404', '287', '36', '073'],\n",
       " ['Putnam County, New York', '45821', '4200', '36', '079'],\n",
       " ['Richmond County, New York', '203754', '29348', '36', '085'],\n",
       " ['Albany County, New York', '145874', '1549', '36', '001'],\n",
       " ['Bronx County, New York', '546560', '54030', '36', '005'],\n",
       " ['Broome County, New York', '77464', '1352', '36', '007'],\n",
       " ['Cayuga County, New York', '33412', '604', '36', '011'],\n",
       " ['Chautauqua County, New York', '52147', '647', '36', '013'],\n",
       " ['Chenango County, New York', '20209', '535', '36', '017'],\n",
       " ['Clinton County, New York', '34016', '365', '36', '019'],\n",
       " ['Cortland County, New York', '21791', '296', '36', '023'],\n",
       " ['Delaware County, New York', '17946', '861', '36', '025'],\n",
       " ['Erie County, New York', '414400', '5160', '36', '029'],\n",
       " ['Franklin County, New York', '17841', '256', '36', '033'],\n",
       " ['Fulton County, New York', '23456', '400', '36', '035'],\n",
       " ['Greene County, New York', '18928', '648', '36', '039'],\n",
       " ['Hamilton County, New York', '1841', '50', '36', '041'],\n",
       " ['Jefferson County, New York', '48260', '688', '36', '045'],\n",
       " ['Kings County, New York', '1087920', '76680', '36', '047'],\n",
       " ['Livingston County, New York', '27374', '395', '36', '051'],\n",
       " ['Madison County, New York', '30900', '451', '36', '053'],\n",
       " ['Montgomery County, New York', '20627', '278', '36', '057'],\n",
       " ['Nassau County, New York', '622432', '49953', '36', '059'],\n",
       " ['Niagara County, New York', '93331', '937', '36', '063'],\n",
       " ['Oneida County, New York', '94801', '1326', '36', '065'],\n",
       " ['Ontario County, New York', '50334', '611', '36', '069'],\n",
       " ['Orange County, New York', '163955', '15513', '36', '071'],\n",
       " ['Oswego County, New York', '51083', '1095', '36', '075'],\n",
       " ['Otsego County, New York', '25745', '692', '36', '077'],\n",
       " ['Queens County, New York', '1025165', '95163', '36', '081'],\n",
       " ['Rensselaer County, New York', '74181', '1545', '36', '083'],\n",
       " ['Rockland County, New York', '132952', '9017', '36', '087'],\n",
       " ['St. Lawrence County, New York', '40971', '787', '36', '089'],\n",
       " ['Saratoga County, New York', '109798', '1707', '36', '091'],\n",
       " ['Schenectady County, New York', '67443', '843', '36', '093'],\n",
       " ['Schoharie County, New York', '13218', '414', '36', '095'],\n",
       " ['Schuyler County, New York', '7582', '206', '36', '097'],\n",
       " ['Seneca County, New York', '14290', '193', '36', '099'],\n",
       " ['Steuben County, New York', '40583', '713', '36', '101'],\n",
       " ['Suffolk County, New York', '698146', '51611', '36', '103'],\n",
       " ['Sullivan County, New York', '29960', '2181', '36', '105'],\n",
       " ['Tioga County, New York', '21206', '347', '36', '107'],\n",
       " ['Tompkins County, New York', '44051', '547', '36', '109'],\n",
       " ['Ulster County, New York', '75520', '3761', '36', '111'],\n",
       " ['Warren County, New York', '30092', '588', '36', '113'],\n",
       " ['Washington County, New York', '25874', '551', '36', '115'],\n",
       " ['Wayne County, New York', '41138', '449', '36', '117'],\n",
       " ['Westchester County, New York', '427794', '29750', '36', '119'],\n",
       " ['Wyoming County, New York', '17574', '273', '36', '121'],\n",
       " ['Yates County, New York', '9518', '90', '36', '123']]"
      ]
     },
     "execution_count": 10,
     "metadata": {},
     "output_type": "execute_result"
    }
   ],
   "source": [
    "r.json()"
   ]
  },
  {
   "cell_type": "markdown",
   "id": "5d0e2e34",
   "metadata": {},
   "source": [
    "##### 4. Converting JSON to CSV\n",
    "While JSON is a great universal format for data interchange, it might not be the ideal format in other aspects, such as readability. Instead, having the data in a tabular format (like a CSV) can make it much more human-readable and accessible. Therefore, being able to convert between file types is essential."
   ]
  },
  {
   "cell_type": "markdown",
   "id": "4996e6a7",
   "metadata": {},
   "source": [
    "##### a. To convert the Census data from JSON to CSV, we can use the built-in csv library:"
   ]
  },
  {
   "cell_type": "code",
   "execution_count": 29,
   "id": "35da6251",
   "metadata": {},
   "outputs": [],
   "source": [
    "import csv"
   ]
  },
  {
   "cell_type": "markdown",
   "id": "132ee933",
   "metadata": {},
   "source": [
    "##### b. To convert from JSON to CSV, we want to write each sublist as a comma-separated row of data to file.\n",
    "The JSON data we got from the Census API is a list of lists in Python, where each inner list corresponds to a single row of data.<br>\n",
    "We first make a variable and call it file. Then we use open() to open a file, since we are going to write that file, we open it with mode='w' for writing mode.<br>\n",
    "The newline='' ensures that newlines are always interpreted correctly.<br>\n",
    "Next, we use the writer() function from the csv library to make a writer object.<br>\n",
    "We then use the writerows() method to write each row of data into comma-separated format."
   ]
  },
  {
   "cell_type": "code",
   "execution_count": 12,
   "id": "7217ff2b",
   "metadata": {},
   "outputs": [],
   "source": [
    " \n",
    "with open(\"cencus.csv\", mode=\"w\", newline=\"\") as file:\n",
    "    writer = csv.writer(file)\n",
    "    writer.writerows(r.json())\n"
   ]
  },
  {
   "cell_type": "markdown",
   "id": "3bc9d8a5",
   "metadata": {},
   "source": [
    "##### 5. Exploring data using pandas"
   ]
  },
  {
   "cell_type": "code",
   "execution_count": 13,
   "id": "bdc205f9",
   "metadata": {},
   "outputs": [],
   "source": [
    "import pandas as pd"
   ]
  },
  {
   "cell_type": "code",
   "execution_count": 14,
   "id": "f972d85b",
   "metadata": {},
   "outputs": [],
   "source": [
    "cencus_df = pd.read_csv(\"cencus.csv\")"
   ]
  },
  {
   "cell_type": "code",
   "execution_count": 15,
   "id": "74bf6bf4",
   "metadata": {},
   "outputs": [
    {
     "data": {
      "text/html": [
       "<div>\n",
       "<style scoped>\n",
       "    .dataframe tbody tr th:only-of-type {\n",
       "        vertical-align: middle;\n",
       "    }\n",
       "\n",
       "    .dataframe tbody tr th {\n",
       "        vertical-align: top;\n",
       "    }\n",
       "\n",
       "    .dataframe thead th {\n",
       "        text-align: right;\n",
       "    }\n",
       "</style>\n",
       "<table border=\"1\" class=\"dataframe\">\n",
       "  <thead>\n",
       "    <tr style=\"text-align: right;\">\n",
       "      <th></th>\n",
       "      <th>NAME</th>\n",
       "      <th>B08303_001E</th>\n",
       "      <th>B08303_013E</th>\n",
       "      <th>state</th>\n",
       "      <th>county</th>\n",
       "    </tr>\n",
       "  </thead>\n",
       "  <tbody>\n",
       "    <tr>\n",
       "      <th>0</th>\n",
       "      <td>Allegany County, New York</td>\n",
       "      <td>18308</td>\n",
       "      <td>497</td>\n",
       "      <td>36</td>\n",
       "      <td>3</td>\n",
       "    </tr>\n",
       "    <tr>\n",
       "      <th>1</th>\n",
       "      <td>Cattaraugus County, New York</td>\n",
       "      <td>31039</td>\n",
       "      <td>629</td>\n",
       "      <td>36</td>\n",
       "      <td>9</td>\n",
       "    </tr>\n",
       "    <tr>\n",
       "      <th>2</th>\n",
       "      <td>Chemung County, New York</td>\n",
       "      <td>35006</td>\n",
       "      <td>736</td>\n",
       "      <td>36</td>\n",
       "      <td>15</td>\n",
       "    </tr>\n",
       "    <tr>\n",
       "      <th>3</th>\n",
       "      <td>Columbia County, New York</td>\n",
       "      <td>25990</td>\n",
       "      <td>813</td>\n",
       "      <td>36</td>\n",
       "      <td>21</td>\n",
       "    </tr>\n",
       "    <tr>\n",
       "      <th>4</th>\n",
       "      <td>Dutchess County, New York</td>\n",
       "      <td>132346</td>\n",
       "      <td>10044</td>\n",
       "      <td>36</td>\n",
       "      <td>27</td>\n",
       "    </tr>\n",
       "  </tbody>\n",
       "</table>\n",
       "</div>"
      ],
      "text/plain": [
       "                           NAME  B08303_001E  B08303_013E  state  county\n",
       "0     Allegany County, New York        18308          497     36       3\n",
       "1  Cattaraugus County, New York        31039          629     36       9\n",
       "2      Chemung County, New York        35006          736     36      15\n",
       "3     Columbia County, New York        25990          813     36      21\n",
       "4     Dutchess County, New York       132346        10044     36      27"
      ]
     },
     "execution_count": 15,
     "metadata": {},
     "output_type": "execute_result"
    }
   ],
   "source": [
    "cencus_df.head()"
   ]
  },
  {
   "cell_type": "code",
   "execution_count": 22,
   "id": "8a1e19e1",
   "metadata": {},
   "outputs": [],
   "source": [
    "cencus_df.columns = [\"name\", \"total_commuters\",\"count_of_>_9\", \"state\", \"county\" ]"
   ]
  },
  {
   "cell_type": "code",
   "execution_count": 27,
   "id": "5d3c1067",
   "metadata": {},
   "outputs": [
    {
     "data": {
      "text/html": [
       "<div>\n",
       "<style scoped>\n",
       "    .dataframe tbody tr th:only-of-type {\n",
       "        vertical-align: middle;\n",
       "    }\n",
       "\n",
       "    .dataframe tbody tr th {\n",
       "        vertical-align: top;\n",
       "    }\n",
       "\n",
       "    .dataframe thead th {\n",
       "        text-align: right;\n",
       "    }\n",
       "</style>\n",
       "<table border=\"1\" class=\"dataframe\">\n",
       "  <thead>\n",
       "    <tr style=\"text-align: right;\">\n",
       "      <th></th>\n",
       "      <th>name</th>\n",
       "      <th>total_commuters</th>\n",
       "      <th>count_of_&gt;_9</th>\n",
       "      <th>state</th>\n",
       "      <th>county</th>\n",
       "    </tr>\n",
       "  </thead>\n",
       "  <tbody>\n",
       "    <tr>\n",
       "      <th>0</th>\n",
       "      <td>Allegany County, New York</td>\n",
       "      <td>18308</td>\n",
       "      <td>497</td>\n",
       "      <td>36</td>\n",
       "      <td>3</td>\n",
       "    </tr>\n",
       "    <tr>\n",
       "      <th>1</th>\n",
       "      <td>Cattaraugus County, New York</td>\n",
       "      <td>31039</td>\n",
       "      <td>629</td>\n",
       "      <td>36</td>\n",
       "      <td>9</td>\n",
       "    </tr>\n",
       "    <tr>\n",
       "      <th>2</th>\n",
       "      <td>Chemung County, New York</td>\n",
       "      <td>35006</td>\n",
       "      <td>736</td>\n",
       "      <td>36</td>\n",
       "      <td>15</td>\n",
       "    </tr>\n",
       "    <tr>\n",
       "      <th>3</th>\n",
       "      <td>Columbia County, New York</td>\n",
       "      <td>25990</td>\n",
       "      <td>813</td>\n",
       "      <td>36</td>\n",
       "      <td>21</td>\n",
       "    </tr>\n",
       "    <tr>\n",
       "      <th>4</th>\n",
       "      <td>Dutchess County, New York</td>\n",
       "      <td>132346</td>\n",
       "      <td>10044</td>\n",
       "      <td>36</td>\n",
       "      <td>27</td>\n",
       "    </tr>\n",
       "  </tbody>\n",
       "</table>\n",
       "</div>"
      ],
      "text/plain": [
       "                           name  total_commuters  count_of_>_9  state  county\n",
       "0     Allegany County, New York            18308           497     36       3\n",
       "1  Cattaraugus County, New York            31039           629     36       9\n",
       "2      Chemung County, New York            35006           736     36      15\n",
       "3     Columbia County, New York            25990           813     36      21\n",
       "4     Dutchess County, New York           132346         10044     36      27"
      ]
     },
     "execution_count": 27,
     "metadata": {},
     "output_type": "execute_result"
    }
   ],
   "source": [
    "cencus_df.head()"
   ]
  },
  {
   "cell_type": "code",
   "execution_count": null,
   "id": "b316fb3d",
   "metadata": {},
   "outputs": [],
   "source": []
  }
 ],
 "metadata": {
  "kernelspec": {
   "display_name": "Python 3 (ipykernel)",
   "language": "python",
   "name": "python3"
  },
  "language_info": {
   "codemirror_mode": {
    "name": "ipython",
    "version": 3
   },
   "file_extension": ".py",
   "mimetype": "text/x-python",
   "name": "python",
   "nbconvert_exporter": "python",
   "pygments_lexer": "ipython3",
   "version": "3.9.12"
  }
 },
 "nbformat": 4,
 "nbformat_minor": 5
}
